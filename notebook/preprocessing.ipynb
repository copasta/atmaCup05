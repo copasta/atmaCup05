{
 "cells": [
  {
   "cell_type": "code",
   "execution_count": 9,
   "metadata": {},
   "outputs": [],
   "source": [
    "import gc\n",
    "\n",
    "import matplotlib.pyplot as plt\n",
    "import numpy as np\n",
    "import pandas as pd\n",
    "from tqdm import tqdm"
   ]
  },
  {
   "cell_type": "code",
   "execution_count": 10,
   "metadata": {},
   "outputs": [
    {
     "name": "stderr",
     "output_type": "stream",
     "text": [
      "/Users/yonekawakazuhito/.pyenv/versions/anaconda3-5.3.1/lib/python3.7/site-packages/tqdm/std.py:658: FutureWarning: The Panel class is removed from pandas. Accessing it from the top-level namespace will also be removed in the next version\n",
      "  from pandas import Panel\n"
     ]
    }
   ],
   "source": [
    "tqdm.pandas()"
   ]
  },
  {
   "cell_type": "code",
   "execution_count": 11,
   "metadata": {},
   "outputs": [],
   "source": [
    "def get_dat(f_name):\n",
    "    spec_df = pd.read_csv(f'../input/spectrum_raw/{f_name}', \n",
    "                      sep='\\t', \n",
    "                      header=None)\n",
    "    spec_df.columns = [\"time\", \"signal\"]\n",
    "    return spec_df"
   ]
  },
  {
   "cell_type": "code",
   "execution_count": 12,
   "metadata": {},
   "outputs": [],
   "source": [
    "train_df = pd.read_csv(\"../input/train.csv\")\n",
    "test_df = pd.read_csv(\"../input/test.csv\")\n",
    "fitting_df = pd.read_csv(\"../input/fitting.csv\")\n",
    "sample_df = pd.read_csv(\"../input/atmaCup5__sample_submission.csv\")"
   ]
  },
  {
   "cell_type": "code",
   "execution_count": 13,
   "metadata": {},
   "outputs": [
    {
     "name": "stderr",
     "output_type": "stream",
     "text": [
      "100%|██████████| 7436/7436 [00:30<00:00, 245.80it/s]\n",
      "100%|██████████| 6952/6952 [00:28<00:00, 247.88it/s]\n"
     ]
    }
   ],
   "source": [
    "train_wave = train_df[\"spectrum_filename\"].progress_map(get_dat)\n",
    "test_wave = test_df[\"spectrum_filename\"].progress_map(get_dat)"
   ]
  },
  {
   "cell_type": "code",
   "execution_count": 14,
   "metadata": {},
   "outputs": [],
   "source": [
    "train_wave_df = pd.DataFrame()\n",
    "test_wave_df = pd.DataFrame()"
   ]
  },
  {
   "cell_type": "code",
   "execution_count": 15,
   "metadata": {},
   "outputs": [],
   "source": [
    "for k, v in train_wave.items():\n",
    "    v = v[\"signal\"].values\n",
    "    if v.size != 512:\n",
    "        v = np.insert(v, 0, 0)\n",
    "    train_wave_df[k] = v"
   ]
  },
  {
   "cell_type": "code",
   "execution_count": 16,
   "metadata": {},
   "outputs": [],
   "source": [
    "for k, v in test_wave.items():\n",
    "    v = v[\"signal\"].values\n",
    "    if v.size != 512:\n",
    "        v = np.insert(v, 0, 0)\n",
    "    test_wave_df[k] = v"
   ]
  },
  {
   "cell_type": "code",
   "execution_count": 17,
   "metadata": {},
   "outputs": [],
   "source": [
    "train_wave_df = train_wave_df.T\n",
    "test_wave_df = test_wave_df.T"
   ]
  },
  {
   "cell_type": "code",
   "execution_count": 18,
   "metadata": {},
   "outputs": [],
   "source": [
    "train_wave_df.columns = [f\"wave{idx}\" for idx in range(0, 512)]\n",
    "test_wave_df.columns = [f\"wave{idx}\" for idx in range(0, 512)]"
   ]
  },
  {
   "cell_type": "code",
   "execution_count": 19,
   "metadata": {},
   "outputs": [],
   "source": [
    "train_cat = pd.concat([train_df, train_wave_df], axis=1)\n",
    "test_cat = pd.concat([test_df, test_wave_df], axis=1)"
   ]
  },
  {
   "cell_type": "code",
   "execution_count": 22,
   "metadata": {},
   "outputs": [],
   "source": [
    "train_cat.to_csv(\"../input/train_spec.csv\", index=False)\n",
    "test_cat.to_csv(\"../input/test_spec.csv\", index=False)"
   ]
  },
  {
   "cell_type": "code",
   "execution_count": null,
   "metadata": {},
   "outputs": [],
   "source": []
  }
 ],
 "metadata": {
  "kernelspec": {
   "display_name": "Python 3",
   "language": "python",
   "name": "python3"
  },
  "language_info": {
   "codemirror_mode": {
    "name": "ipython",
    "version": 3
   },
   "file_extension": ".py",
   "mimetype": "text/x-python",
   "name": "python",
   "nbconvert_exporter": "python",
   "pygments_lexer": "ipython3",
   "version": "3.7.0"
  },
  "toc": {
   "base_numbering": 1,
   "nav_menu": {},
   "number_sections": true,
   "sideBar": true,
   "skip_h1_title": false,
   "title_cell": "Table of Contents",
   "title_sidebar": "Contents",
   "toc_cell": false,
   "toc_position": {},
   "toc_section_display": true,
   "toc_window_display": false
  }
 },
 "nbformat": 4,
 "nbformat_minor": 2
}
